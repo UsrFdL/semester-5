{
 "cells": [
  {
   "cell_type": "code",
   "execution_count": 1,
   "metadata": {},
   "outputs": [
    {
     "name": "stdout",
     "output_type": "stream",
     "text": [
      "Kamu menulis: Praktikum PemLan\n"
     ]
    }
   ],
   "source": [
    "x = input(\"Tullis apapun: \")\n",
    "print(\"Kamu menulis: \" + x)"
   ]
  },
  {
   "cell_type": "code",
   "execution_count": 2,
   "metadata": {},
   "outputs": [
    {
     "name": "stdout",
     "output_type": "stream",
     "text": [
      "Praktikum PemLan\n"
     ]
    }
   ],
   "source": [
    "print(x)"
   ]
  }
 ],
 "metadata": {
  "kernelspec": {
   "display_name": "Python 3.10.6 64-bit",
   "language": "python",
   "name": "python3"
  },
  "language_info": {
   "name": "python",
   "version": "3.10.7"
  },
  "orig_nbformat": 4,
  "vscode": {
   "interpreter": {
    "hash": "5b47171f116825ef80e3641aa9b7e4eabbb433ab17cdb62e7140ee4be9782c2d"
   }
  }
 },
 "nbformat": 4,
 "nbformat_minor": 2
}
